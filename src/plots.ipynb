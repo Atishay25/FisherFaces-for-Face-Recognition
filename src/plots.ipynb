{
 "cells": [
  {
   "cell_type": "code",
   "execution_count": null,
   "metadata": {},
   "outputs": [],
   "source": [
    "import matplotlib.pyplot as plt\n",
    "\n",
    "\n",
    "# eigenfaces, k = 60, w/o light\n",
    "#                   , w light\n",
    "yale = [19.999999999999996, 15.000000000000002]\n",
    "yaleb = [43.509865,17.549325,4.361371]\n",
    "cmu = [3.1818181818181857,3.6363636363636376]\n",
    "\n"
   ]
  }
 ],
 "metadata": {
  "language_info": {
   "name": "python"
  }
 },
 "nbformat": 4,
 "nbformat_minor": 2
}
